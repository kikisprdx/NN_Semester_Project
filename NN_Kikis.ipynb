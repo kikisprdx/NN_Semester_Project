{
 "cells": [
  {
   "cell_type": "markdown",
   "id": "b62cc135-4df5-4dff-85c0-3f170318b51c",
   "metadata": {},
   "source": [
    "# Japanese Vowel Speaker Recognition Project For Nueral Networks Course\n",
    "\n",
    "### Project description : \n",
    "\n",
    "The goal of this project is to develop a 9-class classifier that can accurately identify Japanese male speakers based on short spectral recordings of their vowel utterances. \n",
    "\n",
    "The task involves training the classifier using a dataset of 12-channel time series data representing vocal samples, and then evaluating its performance on a separate test set to hopefully have achieved the lowest possible misclassification rate.\n",
    "\n",
    "### Data overview :\n",
    "\n",
    "The dataset consists of 270 training and 370 test recordings of 12-channel time series data representing spectral recordings of the Japanese vowel /ae/ uttered by 9 male speakers, with each recording varying in length from 7 to 29 timesteps.\n"
   ]
  },
  {
   "cell_type": "code",
   "execution_count": 108,
   "id": "eadea309-4544-491c-8254-9bdb6b63f2b4",
   "metadata": {},
   "outputs": [],
   "source": [
    "import numpy as np\n",
    "import torch\n",
    "import torch.nn as nn\n",
    "import pandas as pd\n",
    "import matplotlib.pyplot as plt\n",
    "from torch.utils.data import TensorDataset, DataLoader, ConcatDataset\n",
    "from sklearn.metrics import accuracy_score, f1_score\n"
   ]
  },
  {
   "cell_type": "markdown",
   "id": "ac2e351c-ed64-4297-83f2-8a452e34d183",
   "metadata": {},
   "source": [
    "## Data Preprocessing \n",
    "\n",
    "This step involves reading the data from external sources and converting it into a format that can be used by the machine learning algorithm.\n",
    "\n",
    "Specifically, it's reading the raw data from text files provided to us, structuring it into input sequences."
   ]
  },
  {
   "cell_type": "code",
   "execution_count": 109,
   "id": "48dec52c-c79b-4ebd-98a8-719957c64380",
   "metadata": {},
   "outputs": [],
   "source": [
    "def read_txt_file(filename):\n",
    "\n",
    "    inputs = []\n",
    "    outputs = []\n",
    "    \n",
    "    with open(filename, 'r') as file:\n",
    "        lines = file.readlines()\n",
    "        current_input = []\n",
    "        # Line by line we strip and split all values \n",
    "        for line in lines:\n",
    "            values = line.strip().split()\n",
    "            # If not the end of a record \n",
    "            if values and values[0] != '1.0' and values[0]!='1.00':\n",
    "                # We add the whole line (if invalid its going to be set to 0) \n",
    "                # First 12 set of values are input, the next 12 are output\n",
    "                # I only got this by looking through the original matlab file and inferencing this fact\n",
    "                # I could be wrong so maybe I'll ask the professor \n",
    "                input_values = [float(val) if val else 0 for val in values]\n",
    "                current_input.append(input_values)\n",
    "            # We're at the end\n",
    "            elif values and values[0] == '1.0' and values[0]!='1.00':\n",
    "                inputs.append(current_input)\n",
    "                current_input = []\n",
    "    return inputs\n",
    "\n",
    "\n",
    "# Read the files\n",
    "train_inputs = read_txt_file('ae.train')\n",
    "test_inputs = read_txt_file('ae.test')"
   ]
  },
  {
   "cell_type": "markdown",
   "id": "0c89aa4c-0f86-4b57-9c8c-033af4974c61",
   "metadata": {},
   "source": [
    "### One-hot Encoding \n",
    "\n",
    "Here we are creating corresponding one-hot encoded output labels for both the training and test datasets."
   ]
  },
  {
   "cell_type": "code",
   "execution_count": 110,
   "id": "58f17882-7f38-4e02-b451-3d4db86fe86e",
   "metadata": {},
   "outputs": [],
   "source": [
    "train_outputs = []\n",
    "for i in range(270):\n",
    "    speaker_index = (i // 30) + 1  # Assuming 9 speakers, each with 30 time series\n",
    "    l = len(train_inputs[i])\n",
    "    teacher = np.zeros((l, 9))\n",
    "    teacher[:, speaker_index - 1] = 1  # One-hot encoding for speaker index\n",
    "    train_outputs.append(teacher)\n",
    "\n",
    "# Create teacher signals for test data\n",
    "test_outputs = []\n",
    "speaker_index = 1\n",
    "block_counter = 0\n",
    "block_lengths = [31, 35, 88, 44, 29, 24, 40, 50, 29]  # Assuming the same block lengths as in MATLAB code\n",
    "for i in range(370):\n",
    "    block_counter += 1\n",
    "    if block_counter > block_lengths[speaker_index - 1]:\n",
    "        speaker_index += 1\n",
    "        block_counter = 1\n",
    "    l = len(test_inputs[i])\n",
    "    teacher = np.zeros((l, 9))\n",
    "    teacher[:, speaker_index - 1] = 1  # One-hot encoding for speaker index\n",
    "    test_outputs.append(teacher)"
   ]
  },
  {
   "cell_type": "markdown",
   "id": "2293168e-3324-42c4-95a9-eb39f4f9ef39",
   "metadata": {},
   "source": [
    "### Padding\n",
    "\n",
    "We find the maximum length of input and output sequences in both training and test sets, then pad all sequences to these maximum lengths with zeros, ensuring uniform dimensions for model input."
   ]
  },
  {
   "cell_type": "code",
   "execution_count": 111,
   "id": "84195c87-08df-4463-8bd2-88f866566f95",
   "metadata": {},
   "outputs": [],
   "source": [
    "# For each recording of each input/output dataset pair, record the maximum length of a recording\n",
    "max_len_train_inputs = max(len(ts) for ts in train_inputs)\n",
    "max_len_train_outputs = max(len(ts) for ts in train_outputs)\n",
    "max_len_test_inputs = max(len(ts) for ts in test_inputs)\n",
    "max_len_test_outputs = max(len(ts) for ts in test_outputs)\n",
    "\n",
    "# Pad all recordings with 0s to reach max_len...\n",
    "train_inputs = [np.pad(ts, ((0, max_len_train_inputs - len(ts)), (0, 0)), mode='constant', constant_values=0) for ts in train_inputs]\n",
    "train_outputs = [np.pad(ts, ((0, max_len_train_outputs - len(ts)), (0, 0)), mode='constant', constant_values=0) for ts in train_outputs]\n",
    "test_inputs = [np.pad(ts, ((0, max_len_test_inputs - len(ts)), (0, 0)), mode='constant', constant_values=0) for ts in test_inputs]\n",
    "test_outputs = [np.pad(ts, ((0, max_len_test_outputs - len(ts)), (0, 0)), mode='constant', constant_values=0) for ts in test_outputs]\n",
    "\n",
    "# Convert to Numpy arrays for fun and easy manipulation\n",
    "train_inputs = np.array(train_inputs)\n",
    "test_inputs = np.array(test_inputs)\n",
    "train_outputs = np.array(train_outputs)\n",
    "test_outputs = np.array(test_outputs)"
   ]
  },
  {
   "cell_type": "markdown",
   "id": "f0bd8fbc-6bd6-400a-a64d-1cf8feea8810",
   "metadata": {},
   "source": [
    "\n",
    "Here we inspect the dimensions of the data to ensure compatibility."
   ]
  },
  {
   "cell_type": "code",
   "execution_count": 112,
   "id": "e12961b3-57fa-44e1-b248-f6a2de78360e",
   "metadata": {},
   "outputs": [
    {
     "name": "stdout",
     "output_type": "stream",
     "text": [
      "(270, 26, 12)\n",
      "(370, 29, 12)\n",
      "(270, 26, 9)\n",
      "(370, 29, 9)\n"
     ]
    }
   ],
   "source": [
    "# Inspect the shapes here\n",
    "## TRAINING\n",
    "# 270 -> Training Recordings -> 26 is the longest recording (time step) -> 12 is the number of features vectors \n",
    "# => 3D array of all recordings, with each of their time steps, with each of the 12 features present \n",
    "\n",
    "## TEST\n",
    "# 370 -> Test recordings -> 29 is the longest recording -> 9 is the number of output vectors (9 speakers) \n",
    "# => 3D array of all recording, with each of their time steps, with a speaker column corresponding to each timestep\n",
    "print(train_inputs.shape)\n",
    "print(test_inputs.shape)\n",
    "print(train_outputs.shape)\n",
    "print(test_outputs.shape)"
   ]
  },
  {
   "cell_type": "markdown",
   "id": "fdb6f276-e043-482f-9812-f5e5577f4036",
   "metadata": {},
   "source": [
    "### Data dimension transformation\n",
    "\n",
    "Here we reshape the input and output data for both training and testing sets from 3D arrays into 2D pandas DataFrames, flattening the time series dimension and adding index columns for time series and time step.\n",
    "\n",
    "This creates structured DataFrames suitable for our machine learning model that expects a 2D input, while still preserving the original time series structure through multi-level indexing."
   ]
  },
  {
   "cell_type": "code",
   "execution_count": 121,
   "id": "f3f7e18f-87e7-48d5-98d1-57db5873692d",
   "metadata": {},
   "outputs": [],
   "source": [
    "# Training Datasets\n",
    "\n",
    "def flatten_data_sets(inputs, outputs):\n",
    "    ## Flatten 'recordings' and 'time-steps' in a single dimension, while perserving the other vectors. \n",
    "    ## The -1 is just a pythonic way of telling the function to calculate the size of the flattened first dimension automatically\n",
    "    train_inputs_2d = inputs.reshape(-1, 12)  \n",
    "    \n",
    "    ## Then we create a pandas Dataframe, and label each feature \n",
    "    train_inputs_df = pd.DataFrame(train_inputs_2d, columns=[f'feature_{i}' for i in range(1, 13)])\n",
    "    \n",
    "    # Create a timeseries column that corresponds what recording each row belongs to,\n",
    "    # Where inputs.shape[0] is the first dimension (270), inputs.shape[1] is the length of each recording (26)\n",
    "    # Then using np.arrange(inputs.shape[1]) creates an array from 0 to 270 (evenly spaced indicies). \n",
    "    # Then np.repeat( ... , inputs.shape[1])\n",
    "    # Repeats for each time of shape[0] (270), that index shape[1] times. \n",
    "    # This results in a column where each index is associated with a recording\n",
    "    # lasting for the recording's timestep length. Effectively labeling what's going on\n",
    "    train_inputs_df['time_series'] = np.repeat(np.arange(inputs.shape[0]), inputs.shape[1])\n",
    "    \n",
    "    # This almost does the same thing but np.tile just copies the array (inputs.shape[1] for shape[0] times, resulting \n",
    "    # in a proper timestep series columb\n",
    "    train_inputs_df['time_step'] = np.tile(np.arange(inputs.shape[1]), inputs.shape[0])\n",
    "    # This is just a goofy way to ensure the columns are at the front\n",
    "    train_inputs_df_X = train_inputs_df.set_index(['time_series', 'time_step'])\n",
    "    train_inputs_df_X = train_inputs_df_X.reset_index()\n",
    "    \n",
    "    train_outputs_2d = outputs.reshape(-1, 9)\n",
    "    train_outputs_df = pd.DataFrame(train_outputs_2d, columns=[f'speaker_{i}' for i in range(1, 10)])\n",
    "    train_outputs_df['time_series'] = np.repeat(np.arange(outputs.shape[0]), outputs.shape[1])\n",
    "    train_outputs_df['time_step'] = np.tile(np.arange(outputs.shape[1]), outputs.shape[0])\n",
    "    train_outputs_df_Y = train_outputs_df.set_index(['time_series', 'time_step'])\n",
    "    train_outputs_df_Y = train_outputs_df_Y.reset_index()\n",
    "    return train_inputs_df_X, train_outputs_df_Y\n",
    "\n",
    "train_inputs_df_X, train_outputs_df_Y = flatten_data_sets(train_inputs, train_outputs)\n",
    "test_inputs_df_X, test_outputs_df_Y = flatten_data_sets(test_inputs, test_outputs)"
   ]
  },
  {
   "cell_type": "code",
   "execution_count": 139,
   "id": "a4b2aeb5-6b11-48e0-872b-f1d0a0864ebd",
   "metadata": {},
   "outputs": [
    {
     "name": "stdout",
     "output_type": "stream",
     "text": [
      "(10730, 14)\n",
      "(7020, 14)\n"
     ]
    }
   ],
   "source": [
    "# Validate shapes\n",
    "assert test_inputs_df_X.shape == (10730, 14), f\"Expected shape of (10730, 14), but got {test_inputs_df_X.shape}\"\n",
    "assert train_inputs_df_X.shape == (7020, 14), f\"Expected shape of (7020, 14), but got {train_inputs_df_X.shape}\"\n",
    "\n",
    "print(test_inputs_df_X.shape) \n",
    "print(train_inputs_df_X.shape) "
   ]
  },
  {
   "cell_type": "code",
   "execution_count": 141,
   "id": "1a9963cb-d5a0-4ccb-b485-025107c94093",
   "metadata": {},
   "outputs": [
    {
     "name": "stdout",
     "output_type": "stream",
     "text": [
      "(10730, 11)\n",
      "(7020, 11)\n"
     ]
    }
   ],
   "source": [
    "assert test_outputs_df_Y.shape == (10730, 11), f\"Expected shape of (10730, 14), but got {test_outputs_df_Y.shape}\"\n",
    "assert train_outputs_df_Y.shape == (7020, 11), f\"Expected shape of (7020, 14), but got {train_outputs_df_Y.shape}\"\n",
    "\n",
    "print(test_outputs_df_Y.shape)\n",
    "print(train_outputs_df_Y.shape)\n"
   ]
  },
  {
   "cell_type": "code",
   "execution_count": 143,
   "id": "27498686-5437-4ec2-8145-8fc16740166e",
   "metadata": {},
   "outputs": [
    {
     "data": {
      "text/html": [
       "<div>\n",
       "<style scoped>\n",
       "    .dataframe tbody tr th:only-of-type {\n",
       "        vertical-align: middle;\n",
       "    }\n",
       "\n",
       "    .dataframe tbody tr th {\n",
       "        vertical-align: top;\n",
       "    }\n",
       "\n",
       "    .dataframe thead th {\n",
       "        text-align: right;\n",
       "    }\n",
       "</style>\n",
       "<table border=\"1\" class=\"dataframe\">\n",
       "  <thead>\n",
       "    <tr style=\"text-align: right;\">\n",
       "      <th></th>\n",
       "      <th>time_series</th>\n",
       "      <th>time_step</th>\n",
       "      <th>feature_1</th>\n",
       "      <th>feature_2</th>\n",
       "      <th>feature_3</th>\n",
       "      <th>feature_4</th>\n",
       "      <th>feature_5</th>\n",
       "      <th>feature_6</th>\n",
       "      <th>feature_7</th>\n",
       "      <th>feature_8</th>\n",
       "      <th>feature_9</th>\n",
       "      <th>feature_10</th>\n",
       "      <th>feature_11</th>\n",
       "      <th>feature_12</th>\n",
       "    </tr>\n",
       "  </thead>\n",
       "  <tbody>\n",
       "    <tr>\n",
       "      <th>0</th>\n",
       "      <td>0</td>\n",
       "      <td>0</td>\n",
       "      <td>1.860936</td>\n",
       "      <td>-0.207383</td>\n",
       "      <td>0.261557</td>\n",
       "      <td>-0.214562</td>\n",
       "      <td>-0.171253</td>\n",
       "      <td>-0.118167</td>\n",
       "      <td>-0.277557</td>\n",
       "      <td>0.025668</td>\n",
       "      <td>0.126701</td>\n",
       "      <td>-0.306756</td>\n",
       "      <td>-0.213076</td>\n",
       "      <td>0.088728</td>\n",
       "    </tr>\n",
       "    <tr>\n",
       "      <th>1</th>\n",
       "      <td>0</td>\n",
       "      <td>1</td>\n",
       "      <td>1.891651</td>\n",
       "      <td>-0.193249</td>\n",
       "      <td>0.235363</td>\n",
       "      <td>-0.249118</td>\n",
       "      <td>-0.112890</td>\n",
       "      <td>-0.112238</td>\n",
       "      <td>-0.311997</td>\n",
       "      <td>-0.027122</td>\n",
       "      <td>0.171457</td>\n",
       "      <td>-0.289431</td>\n",
       "      <td>-0.247722</td>\n",
       "      <td>0.093011</td>\n",
       "    </tr>\n",
       "    <tr>\n",
       "      <th>2</th>\n",
       "      <td>0</td>\n",
       "      <td>2</td>\n",
       "      <td>1.939205</td>\n",
       "      <td>-0.239664</td>\n",
       "      <td>0.258561</td>\n",
       "      <td>-0.291458</td>\n",
       "      <td>-0.041053</td>\n",
       "      <td>-0.102034</td>\n",
       "      <td>-0.383300</td>\n",
       "      <td>0.019013</td>\n",
       "      <td>0.169510</td>\n",
       "      <td>-0.314894</td>\n",
       "      <td>-0.227908</td>\n",
       "      <td>0.074638</td>\n",
       "    </tr>\n",
       "    <tr>\n",
       "      <th>3</th>\n",
       "      <td>0</td>\n",
       "      <td>3</td>\n",
       "      <td>1.717517</td>\n",
       "      <td>-0.218572</td>\n",
       "      <td>0.217119</td>\n",
       "      <td>-0.228186</td>\n",
       "      <td>-0.018608</td>\n",
       "      <td>-0.137624</td>\n",
       "      <td>-0.403318</td>\n",
       "      <td>-0.009643</td>\n",
       "      <td>0.164607</td>\n",
       "      <td>-0.323267</td>\n",
       "      <td>-0.210105</td>\n",
       "      <td>0.098098</td>\n",
       "    </tr>\n",
       "    <tr>\n",
       "      <th>4</th>\n",
       "      <td>0</td>\n",
       "      <td>4</td>\n",
       "      <td>1.741191</td>\n",
       "      <td>-0.279891</td>\n",
       "      <td>0.196583</td>\n",
       "      <td>-0.236377</td>\n",
       "      <td>-0.032012</td>\n",
       "      <td>-0.090612</td>\n",
       "      <td>-0.363134</td>\n",
       "      <td>-0.012571</td>\n",
       "      <td>0.124298</td>\n",
       "      <td>-0.351171</td>\n",
       "      <td>-0.216545</td>\n",
       "      <td>0.113899</td>\n",
       "    </tr>\n",
       "  </tbody>\n",
       "</table>\n",
       "</div>"
      ],
      "text/plain": [
       "   time_series  time_step  feature_1  feature_2  feature_3  feature_4  \\\n",
       "0            0          0   1.860936  -0.207383   0.261557  -0.214562   \n",
       "1            0          1   1.891651  -0.193249   0.235363  -0.249118   \n",
       "2            0          2   1.939205  -0.239664   0.258561  -0.291458   \n",
       "3            0          3   1.717517  -0.218572   0.217119  -0.228186   \n",
       "4            0          4   1.741191  -0.279891   0.196583  -0.236377   \n",
       "\n",
       "   feature_5  feature_6  feature_7  feature_8  feature_9  feature_10  \\\n",
       "0  -0.171253  -0.118167  -0.277557   0.025668   0.126701   -0.306756   \n",
       "1  -0.112890  -0.112238  -0.311997  -0.027122   0.171457   -0.289431   \n",
       "2  -0.041053  -0.102034  -0.383300   0.019013   0.169510   -0.314894   \n",
       "3  -0.018608  -0.137624  -0.403318  -0.009643   0.164607   -0.323267   \n",
       "4  -0.032012  -0.090612  -0.363134  -0.012571   0.124298   -0.351171   \n",
       "\n",
       "   feature_11  feature_12  \n",
       "0   -0.213076    0.088728  \n",
       "1   -0.247722    0.093011  \n",
       "2   -0.227908    0.074638  \n",
       "3   -0.210105    0.098098  \n",
       "4   -0.216545    0.113899  "
      ]
     },
     "execution_count": 143,
     "metadata": {},
     "output_type": "execute_result"
    }
   ],
   "source": [
    "train_inputs_df_X.head(5)"
   ]
  },
  {
   "cell_type": "code",
   "execution_count": 144,
   "id": "7706ca72-5241-4186-93c1-cddceb0042d3",
   "metadata": {},
   "outputs": [
    {
     "data": {
      "text/html": [
       "<div>\n",
       "<style scoped>\n",
       "    .dataframe tbody tr th:only-of-type {\n",
       "        vertical-align: middle;\n",
       "    }\n",
       "\n",
       "    .dataframe tbody tr th {\n",
       "        vertical-align: top;\n",
       "    }\n",
       "\n",
       "    .dataframe thead th {\n",
       "        text-align: right;\n",
       "    }\n",
       "</style>\n",
       "<table border=\"1\" class=\"dataframe\">\n",
       "  <thead>\n",
       "    <tr style=\"text-align: right;\">\n",
       "      <th></th>\n",
       "      <th>time_series</th>\n",
       "      <th>time_step</th>\n",
       "      <th>speaker_1</th>\n",
       "      <th>speaker_2</th>\n",
       "      <th>speaker_3</th>\n",
       "      <th>speaker_4</th>\n",
       "      <th>speaker_5</th>\n",
       "      <th>speaker_6</th>\n",
       "      <th>speaker_7</th>\n",
       "      <th>speaker_8</th>\n",
       "      <th>speaker_9</th>\n",
       "    </tr>\n",
       "  </thead>\n",
       "  <tbody>\n",
       "    <tr>\n",
       "      <th>0</th>\n",
       "      <td>0</td>\n",
       "      <td>0</td>\n",
       "      <td>1.0</td>\n",
       "      <td>0.0</td>\n",
       "      <td>0.0</td>\n",
       "      <td>0.0</td>\n",
       "      <td>0.0</td>\n",
       "      <td>0.0</td>\n",
       "      <td>0.0</td>\n",
       "      <td>0.0</td>\n",
       "      <td>0.0</td>\n",
       "    </tr>\n",
       "    <tr>\n",
       "      <th>1</th>\n",
       "      <td>0</td>\n",
       "      <td>1</td>\n",
       "      <td>1.0</td>\n",
       "      <td>0.0</td>\n",
       "      <td>0.0</td>\n",
       "      <td>0.0</td>\n",
       "      <td>0.0</td>\n",
       "      <td>0.0</td>\n",
       "      <td>0.0</td>\n",
       "      <td>0.0</td>\n",
       "      <td>0.0</td>\n",
       "    </tr>\n",
       "    <tr>\n",
       "      <th>2</th>\n",
       "      <td>0</td>\n",
       "      <td>2</td>\n",
       "      <td>1.0</td>\n",
       "      <td>0.0</td>\n",
       "      <td>0.0</td>\n",
       "      <td>0.0</td>\n",
       "      <td>0.0</td>\n",
       "      <td>0.0</td>\n",
       "      <td>0.0</td>\n",
       "      <td>0.0</td>\n",
       "      <td>0.0</td>\n",
       "    </tr>\n",
       "    <tr>\n",
       "      <th>3</th>\n",
       "      <td>0</td>\n",
       "      <td>3</td>\n",
       "      <td>1.0</td>\n",
       "      <td>0.0</td>\n",
       "      <td>0.0</td>\n",
       "      <td>0.0</td>\n",
       "      <td>0.0</td>\n",
       "      <td>0.0</td>\n",
       "      <td>0.0</td>\n",
       "      <td>0.0</td>\n",
       "      <td>0.0</td>\n",
       "    </tr>\n",
       "    <tr>\n",
       "      <th>4</th>\n",
       "      <td>0</td>\n",
       "      <td>4</td>\n",
       "      <td>1.0</td>\n",
       "      <td>0.0</td>\n",
       "      <td>0.0</td>\n",
       "      <td>0.0</td>\n",
       "      <td>0.0</td>\n",
       "      <td>0.0</td>\n",
       "      <td>0.0</td>\n",
       "      <td>0.0</td>\n",
       "      <td>0.0</td>\n",
       "    </tr>\n",
       "  </tbody>\n",
       "</table>\n",
       "</div>"
      ],
      "text/plain": [
       "   time_series  time_step  speaker_1  speaker_2  speaker_3  speaker_4  \\\n",
       "0            0          0        1.0        0.0        0.0        0.0   \n",
       "1            0          1        1.0        0.0        0.0        0.0   \n",
       "2            0          2        1.0        0.0        0.0        0.0   \n",
       "3            0          3        1.0        0.0        0.0        0.0   \n",
       "4            0          4        1.0        0.0        0.0        0.0   \n",
       "\n",
       "   speaker_5  speaker_6  speaker_7  speaker_8  speaker_9  \n",
       "0        0.0        0.0        0.0        0.0        0.0  \n",
       "1        0.0        0.0        0.0        0.0        0.0  \n",
       "2        0.0        0.0        0.0        0.0        0.0  \n",
       "3        0.0        0.0        0.0        0.0        0.0  \n",
       "4        0.0        0.0        0.0        0.0        0.0  "
      ]
     },
     "execution_count": 144,
     "metadata": {},
     "output_type": "execute_result"
    }
   ],
   "source": [
    "train_outputs_df_Y.head(5)"
   ]
  },
  {
   "cell_type": "code",
   "execution_count": null,
   "id": "15eff7e0-4b8b-4866-802d-fe39e335e968",
   "metadata": {},
   "outputs": [],
   "source": [
    "# Save DF for inspection\n",
    "train_inputs_df_X.to_csv('train_inputs.csv')\n",
    "train_outputs_df_Y.to_csv('train_outputs.csv')"
   ]
  },
  {
   "cell_type": "markdown",
   "id": "aca306e4-7ece-43a5-b936-12ff76da847b",
   "metadata": {},
   "source": [
    "### Tensor Conversion\n",
    "\n",
    "We save the training input and output DataFrames to CSV files.\n",
    "\n",
    "Then we define a function time_series_to_tensor_stack that converts the time series data into PyTorch tensors by grouping data by 'time_series' and dropping the 'time_series' and 'time_step' columns, making it suitable for tensor-based machine learning models. The function is then applied to both training and test input data, and the resulting tensors and their underlying 2D numpy arrays are stored and printed for inspection.\n",
    "\n",
    "**What is a Tensor?**\n",
    "It's a multidimensional array, that generalises all types of multivariate arrays into a higher dimensions: Unifying all of the functions and things you can do to a Tensor, even if they might be of different shapes or sizes. \n",
    "\n",
    "**What is a Tensor Stack?** \n",
    "Is a tensor array (1D) made out of other Tensors. Effectively making a list of Tensors as a functional Tensor."
   ]
  },
  {
   "cell_type": "code",
   "execution_count": 152,
   "id": "c09cd569-abb6-43f5-896b-da828a0513ff",
   "metadata": {
    "scrolled": true
   },
   "outputs": [
    {
     "ename": "ValueError",
     "evalue": "too many values to unpack (expected 2)",
     "output_type": "error",
     "traceback": [
      "\u001b[0;31m---------------------------------------------------------------------------\u001b[0m",
      "\u001b[0;31mValueError\u001b[0m                                Traceback (most recent call last)",
      "Cell \u001b[0;32mIn[152], line 16\u001b[0m\n\u001b[1;32m     12\u001b[0m         time_series_tensors\u001b[38;5;241m.\u001b[39mappend(torch\u001b[38;5;241m.\u001b[39mfrom_numpy(recording))\n\u001b[1;32m     13\u001b[0m     \u001b[38;5;28;01mreturn\u001b[39;00m time_series_tensors\n\u001b[0;32m---> 16\u001b[0m time_series_tensors, test_df \u001b[38;5;241m=\u001b[39m time_series_to_tensor(train_inputs_df_X)\n\u001b[1;32m     17\u001b[0m time_series_tensors_test, test_df_test \u001b[38;5;241m=\u001b[39m time_series_to_tensor(test_inputs_df_X)\n",
      "\u001b[0;31mValueError\u001b[0m: too many values to unpack (expected 2)"
     ]
    }
   ],
   "source": [
    "# CONVERT THE TIME SERIES DATA IN A PROPER FORMAT FOR A TENSOR STACK\n",
    "def time_series_to_tensor(inputs):\n",
    "    time_series_data = inputs\n",
    "    time_series_tensors = []\n",
    "    data = []#pd.DataFrame()\n",
    "    # Go by each recording\n",
    "    for ts_id, recording in time_series_data.groupby('time_series'):\n",
    "        # We drop the extra columns we made earlier as they're not needed, we just needed them ordered\n",
    "        recording = recording.drop(['time_series', 'time_step'], axis=1)\n",
    "        recording = recording.values.astype(np.float32)\n",
    "        # Append recording as a tensor to the time_series list\n",
    "        time_series_tensors.append(torch.from_numpy(recording))\n",
    "    return time_series_tensors\n",
    "\n",
    "\n",
    "time_series_tensors = time_series_to_tensor(train_inputs_df_X)\n",
    "time_series_tensors_test = time_series_to_tensor(test_inputs_df_X)"
   ]
  },
  {
   "cell_type": "code",
   "execution_count": 127,
   "id": "dbdb27e6-aa36-434f-a7a4-fb140eee7a1f",
   "metadata": {},
   "outputs": [],
   "source": [
    "#target_features = []\n",
    "#for ts_id, group in train_outputs_df_Y.groupby('time_series'):\n",
    "#    group = group.drop('time_series', axis=1)\n",
    "#    group = group.values.astype(np.float32)\n",
    "#    target_features.append(torch.from_numpy(group))\n",
    "\n",
    "#features = torch.stack(target_features)"
   ]
  },
  {
   "cell_type": "markdown",
   "id": "d03224c5-c4db-4ee9-ae38-fd48358b3f0e",
   "metadata": {},
   "source": [
    "### Label Extraction\n",
    "Here we reshape the one-hot encoded output DataFrame into a long format using 'melt', filter for rows where the speaker is speaking, extract the speaker ID, and return a DataFrame with unique speaker IDs for each time series."
   ]
  },
  {
   "cell_type": "code",
   "execution_count": 128,
   "id": "959b92ae-429b-418d-b1ce-aba6b3707724",
   "metadata": {
    "scrolled": true
   },
   "outputs": [
    {
     "name": "stderr",
     "output_type": "stream",
     "text": [
      "/tmp/ipykernel_105835/3069431543.py:9: SettingWithCopyWarning: \n",
      "A value is trying to be set on a copy of a slice from a DataFrame.\n",
      "Try using .loc[row_indexer,col_indexer] = value instead\n",
      "\n",
      "See the caveats in the documentation: https://pandas.pydata.org/pandas-docs/stable/user_guide/indexing.html#returning-a-view-versus-a-copy\n",
      "  speaker_df['speaker'] = speaker_df['speaker'].str.extract('(\\d)').astype(int)\n",
      "/tmp/ipykernel_105835/3069431543.py:9: SettingWithCopyWarning: \n",
      "A value is trying to be set on a copy of a slice from a DataFrame.\n",
      "Try using .loc[row_indexer,col_indexer] = value instead\n",
      "\n",
      "See the caveats in the documentation: https://pandas.pydata.org/pandas-docs/stable/user_guide/indexing.html#returning-a-view-versus-a-copy\n",
      "  speaker_df['speaker'] = speaker_df['speaker'].str.extract('(\\d)').astype(int)\n"
     ]
    }
   ],
   "source": [
    "# Transpose things to just grab the speaker ID\n",
    "# tl;dr extract the labels for the corresponding inputs\n",
    "def extract_labels(outputs):\n",
    "    melted_df = outputs.melt(id_vars=['time_series', 'time_step'], \n",
    "                                        value_vars=[f'speaker_{i}' for i in range(1, 10)], \n",
    "                                        var_name='speaker', value_name='is_speaking')\n",
    "    \n",
    "    speaker_df = melted_df[melted_df['is_speaking'] == 1.0]\n",
    "    speaker_df['speaker'] = speaker_df['speaker'].str.extract('(\\d)').astype(int)\n",
    "    \n",
    "    speaker_df = speaker_df.drop(columns='is_speaking')\n",
    "    speaker_df = speaker_df.drop(columns='time_step')\n",
    "    speaker_df = speaker_df.drop_duplicates()\n",
    "    speaker_df = speaker_df.reset_index(drop=True)\n",
    "    return speaker_df\n",
    "\n",
    "speaker_df = extract_labels(train_outputs_df_Y)\n",
    "speaker_df_test = extract_labels(test_outputs_df_Y)"
   ]
  },
  {
   "cell_type": "code",
   "execution_count": 129,
   "id": "c466cec7-4aed-46c7-b120-219f06886566",
   "metadata": {},
   "outputs": [
    {
     "name": "stdout",
     "output_type": "stream",
     "text": [
      "     time_series  speaker\n",
      "0              0        1\n",
      "1              1        1\n",
      "2              2        1\n",
      "3              3        1\n",
      "4              4        1\n",
      "..           ...      ...\n",
      "365          365        9\n",
      "366          366        9\n",
      "367          367        9\n",
      "368          368        9\n",
      "369          369        9\n",
      "\n",
      "[370 rows x 2 columns]\n"
     ]
    }
   ],
   "source": [
    "print(speaker_df_test)"
   ]
  },
  {
   "cell_type": "markdown",
   "id": "21f8feb4-7e3f-4249-96ae-22ee7e7409b5",
   "metadata": {},
   "source": [
    "### Data Conversion to PyTorch Tensors for Model Input\n",
    "This code converts the preprocessed training and test input and output data into PyTorch tensors, stacks the time series tensors, extracts the speaker labels, and prints the shapes of the input and output tensors for verification."
   ]
  },
  {
   "cell_type": "code",
   "execution_count": 130,
   "id": "0cde0e2c-9c12-4ae6-bab2-9063a1d897c6",
   "metadata": {},
   "outputs": [
    {
     "name": "stdout",
     "output_type": "stream",
     "text": [
      "The x_inputs:  torch.Size([270, 26, 12])\n",
      "The x_inputs_test:  torch.Size([370, 29, 12])\n",
      "The y_inputs:  torch.Size([270])\n",
      "The y_inputs_test:  torch.Size([370])\n"
     ]
    }
   ],
   "source": [
    "# Convert data to PyTorch tensors\n",
    "from torch.autograd import Variable \n",
    "\n",
    "\n",
    "X = train_inputs_df_X.iloc[:, :].values\n",
    "Y = train_outputs_df_Y.iloc[:, :].values\n",
    "\n",
    "input_tensor = torch.stack(time_series_tensors)\n",
    "input_tensor_test = torch.stack(time_series_tensors_test)\n",
    "print(\"The x_inputs: \", input_tensor.shape)\n",
    "print(\"The x_inputs_test: \", input_tensor_test.shape)\n",
    "\n",
    "targets = torch.from_numpy(speaker_df['speaker'].values).long()\n",
    "targets_test = torch.from_numpy(speaker_df_test['speaker'].values).long()\n",
    "print(\"The y_inputs: \", targets.shape)\n",
    "print(\"The y_inputs_test: \", targets_test.shape)"
   ]
  },
  {
   "cell_type": "markdown",
   "id": "03cdd525-2fb8-4b49-83b5-6c1ce19fd1b8",
   "metadata": {},
   "source": [
    "## Model Building\n",
    "Now we define an LSTM-based neural network model for classifying time series data; specifying its architecture with LSTM and fully connected layers. We also implement the forward pass to process input sequences and produce class predictions.\n",
    "\n",
    "**Model Architecture :**\n",
    "\n",
    "The model consists of a LSTM layer that processes the input time series data, followed by a fully connected layer with 128 neurons and a ReLU activation function, and a final fully connected layer that outputs the class predictions for the 9 speakers. \n",
    "\n",
    "The LSTM layer captures temporal dependencies in the input data, while the fully connected layers refine the features for classification.\n",
    "\n",
    "\n",
    "**Forward pass implementation steps for the LSTM model :**\n",
    "\n",
    "1. Initialize hidden and cell states:\n",
    "    - Gets the batch size from the input tensor.\n",
    "    - Creates initial hidden state (h_0) and cell state (c_0) tensors filled with zeros for each layer and each sample in the batch.\n",
    "2. LSTM processing:\n",
    "    - Passes the input x and initial states (h_0, c_0) through the LSTM layer.\n",
    "    - Returns the output sequence and final hidden/cell states (hn, cn).\n",
    "3. Reshape output:\n",
    "    - Reshapes the output to ensure it's contiguous in memory and has the correct dimensions.\n",
    "    - Process final output:\n",
    "    - Selects the last output from the sequence (output[:, -1, :]).\n",
    "    - Applies ReLU activation to this last output.\n",
    "4. Fully connected layers:\n",
    "    - Passes the result through the first fully connected layer (fc_1).\n",
    "    - Applies ReLU activation again.\n",
    "    - Passes through the final fully connected layer (fc) to produce the output.\n",
    "    - Return the final output."
   ]
  },
  {
   "cell_type": "code",
   "execution_count": 131,
   "id": "be951462-2cca-4120-a643-f801ac1c45a1",
   "metadata": {},
   "outputs": [],
   "source": [
    "## Version 2\n",
    "# Hyperparameters\n",
    "\n",
    "class LSTM1(nn.Module):\n",
    "    def __init__(self, num_classes, input_size, hidden_size, num_layers, output_size):\n",
    "        super(LSTM1, self).__init__()\n",
    "        self.num_classes = num_classes  # should be 9\n",
    "        self.num_layers = num_layers  # up to you\n",
    "        self.input_size = input_size  # should 12\n",
    "        self.hidden_size = hidden_size  # hidden neurons\n",
    "\n",
    "        self.lstm = nn.LSTM(input_size=input_size, hidden_size=hidden_size,\n",
    "                            num_layers=num_layers, batch_first=True)  # lstm\n",
    "        self.fc_1 = nn.Linear(hidden_size, 128)  # fully connected 1\n",
    "        self.fc = nn.Linear(128, num_classes)  # fully connected last layer\n",
    "\n",
    "        self.relu = nn.ReLU()\n",
    "\n",
    "    def forward(self, x):\n",
    "        # Get the batch size from the input tensor\n",
    "        batch_size = x.size(0)  \n",
    "        h_0 = torch.zeros(self.num_layers, batch_size, self.hidden_size)\n",
    "        c_0 = torch.zeros(self.num_layers, batch_size, self.hidden_size)\n",
    "\n",
    "        # Propagatiooon time\n",
    "        output, (hn, cn) = self.lstm(x, (h_0, c_0))  \n",
    "        output = output.contiguous().view(batch_size, -1, self.hidden_size)\n",
    "\n",
    "        out = self.relu(output[:, -1, :])  # Apply ReLU activation to the last output\n",
    "        out = self.fc_1(out)  # First Dense layer\n",
    "        out = self.relu(out)  # ReLU activation\n",
    "        out = self.fc(out)  # Final Output layer\n",
    "\n",
    "        return out"
   ]
  },
  {
   "cell_type": "markdown",
   "id": "bfc01bac-06e9-48c6-8fa5-ca64d22f7468",
   "metadata": {},
   "source": [
    "### Define Hyper parameters\n",
    "\n",
    "We define the hyperparameters and other variables for the LSTM neural network model, including the number of classes, input size, hidden layer size, number of layers, and output size.\n",
    "\n",
    "These parameters determine the model's ability to learn and represent complex patterns in the time series data of Japanese vowel utterances."
   ]
  },
  {
   "cell_type": "code",
   "execution_count": 132,
   "id": "b1ae2138-6749-4198-8f89-9168abceb34f",
   "metadata": {},
   "outputs": [],
   "source": [
    "# Hyperparameters\n",
    "num_classes = 9  # How many features we detecting??? \n",
    "input_size = 12  # Should be 12\n",
    "hidden_size = 100  # Size of the hidden state in the LSTM\n",
    "num_layers = 2  # Number of LSTM layers\n",
    "output_size = 1  # Size of the output (in your case, it's 1 since you have one output feature)\n",
    "num_epochs = 100#700\n",
    "learning_rate = 0.000179"
   ]
  },
  {
   "cell_type": "markdown",
   "id": "370b7287-6829-498a-a6f6-30b0cb734b27",
   "metadata": {},
   "source": [
    "### Initialize model\n",
    "\n",
    "Now we initialize the LSTM model with these parameters, set up the loss function, and configure the optimizer with a specific learning rate for training the model.\n",
    "\n",
    "**Loss function :** CrossEntropyLoss is used as the loss function, which is well-suited for the 9-class classification task. It measures model performance based on probability outputs, with loss increasing as predictions diverge from actual labels. \n",
    "\n",
    "**Optimizer :** Adamax, a variant of Adam optimizer, is chosen for its robustness and adaptive learning rates. It uses the infinity norm and individually adjusts learning rates for each parameter, potentially leading to faster convergence, especially with sparse gradients. \n",
    "\n"
   ]
  },
  {
   "cell_type": "code",
   "execution_count": 133,
   "id": "4aaf9389-d7eb-46ca-953f-91f8503bbe9c",
   "metadata": {},
   "outputs": [],
   "source": [
    "# Initialize the model\n",
    "model = LSTM1(num_classes, input_size, hidden_size, num_layers, output_size)\n",
    "criterion = nn.CrossEntropyLoss()\n",
    "optimizer = torch.optim.Adamax(model.parameters(), lr=learning_rate)"
   ]
  },
  {
   "cell_type": "markdown",
   "id": "08fbaf4c-f3b9-49ee-b71d-fe5a53dd0f1d",
   "metadata": {},
   "source": [
    "Here we convert the input data and target labels to appropriate tensor types (long or float) and reshape them for training and validation, ensuring they are in the correct format for the PyTorch model."
   ]
  },
  {
   "cell_type": "code",
   "execution_count": 134,
   "id": "e23e7742-01ed-4e7e-a91f-58923da62770",
   "metadata": {},
   "outputs": [],
   "source": [
    "input_data_test = input_tensor_test.long()\n",
    "targets_test = targets_test.long()\n",
    "\n",
    "val_data = input_tensor_test.long()\n",
    "val_targets = targets_test.long()\n",
    "\n",
    "input_data = input_tensor.float()\n",
    "targets = (targets - 1).long().view(-1)  # Convert targets to LongTensor and reshape to (269,) !!! i think 270\n",
    "\n",
    "val_data = input_tensor_test.float()\n",
    "val_targets = (targets_test- 1).long().view(-1)  # Convert val_targets to LongTensor and reshape to (269,)"
   ]
  },
  {
   "cell_type": "markdown",
   "id": "e96afbba-5dca-4117-af6a-cbfe734b64cb",
   "metadata": {},
   "source": [
    "## Model Training\n",
    "\n",
    "During the model training step, we feed the prepared training data into the model architecture, optimize the model parameters by minimizing a loss function over multiple epochs, and use techniques like cross-validation to improve generalization and prevent overfitting."
   ]
  },
  {
   "cell_type": "markdown",
   "id": "5a561bdb-1e03-4368-94cb-2959db4c3caf",
   "metadata": {},
   "source": [
    "### Cross Validation\n",
    "\n",
    "Cross-validation is a technique used to evaluate the performance of a machine learning model by dividing the dataset into multiple subsets, training the model on some subsets while testing it on the remaining ones, and repeating this process to ensure the model's robustness and ability to generalize to unseen data.\n",
    "\n",
    "We set up a 3-fold cross-validation by splitting the original training dataset into two parts: one for training and one for validation, using a fixed random seed for reproducibility.\n"
   ]
  },
  {
   "cell_type": "code",
   "execution_count": 135,
   "id": "ec4717bf-6235-4e0c-80ee-b16f2b1c7f67",
   "metadata": {},
   "outputs": [
    {
     "name": "stdout",
     "output_type": "stream",
     "text": [
      "90\n"
     ]
    }
   ],
   "source": [
    "fold_num = 3\n",
    "\n",
    "train_dataset = TensorDataset(input_tensor, targets)\n",
    "val_dataset = TensorDataset(input_tensor_test, val_targets)\n",
    "\n",
    "length = input_data.shape[0]\n",
    "fold_length = int(length / fold_num)\n",
    "remaining_length = int(length - fold_length)\n",
    "generator1 = torch.Generator().manual_seed(42)\n",
    "print(fold_length)\n",
    "folds = torch.utils.data.random_split(train_dataset, [remaining_length, fold_length], generator=generator1)"
   ]
  },
  {
   "cell_type": "code",
   "execution_count": 136,
   "id": "9512c09b-0e71-4a4e-be05-778d1e1aa419",
   "metadata": {},
   "outputs": [],
   "source": [
    "# Evaluate\n",
    "def evaluate_model(model):\n",
    "    y_pred = []\n",
    "    y_true = []\n",
    "    \n",
    "    # Evaluate on the training set ok\n",
    "    with torch.no_grad():\n",
    "        outputs = model(input_data)\n",
    "        _, preds = torch.max(outputs, 1)\n",
    "        y_pred.extend(preds.cpu().numpy())\n",
    "        y_true.extend(targets.cpu().numpy())\n",
    "    \n",
    "    train_accuracy = accuracy_score(y_true, y_pred)\n",
    "    train_f1 = f1_score(y_true, y_pred, average='macro')\n",
    "    print(f\"Best Model - Training Accuracy: {train_accuracy:.4f}, Training F1-score (macro): {train_f1:.4f}\")\n",
    "    \n",
    "    y_pred = []\n",
    "    y_true = []\n",
    "    \n",
    "    # Evaluate on the validation set ?????????\n",
    "    with torch.no_grad():\n",
    "        val_outputs = model(val_data)\n",
    "        _, val_preds = torch.max(val_outputs, 1)\n",
    "        y_pred.extend(val_preds.cpu().numpy())\n",
    "        y_true.extend(val_targets.cpu().numpy())\n",
    "    \n",
    "    val_accuracy = accuracy_score(y_true, y_pred)\n",
    "    val_f1 = f1_score(y_true, y_pred, average='macro')\n",
    "    print(f\"Best Model - Validation Accuracy: {val_accuracy:.4f}, Validation F1-score (macro): {val_f1:.4f}\")"
   ]
  },
  {
   "cell_type": "code",
   "execution_count": 137,
   "id": "0a6f4dfd-c827-4108-90bb-f3312d3bb25d",
   "metadata": {},
   "outputs": [
    {
     "data": {
      "text/plain": [
       "'def early_stopping(val_loss, threshold=0.3): # i dont think itll ever reach this lmao probably will not use early stopping\\n    if val_loss < threshold:\\n        return True\\n    return False'"
      ]
     },
     "execution_count": 137,
     "metadata": {},
     "output_type": "execute_result"
    }
   ],
   "source": [
    "'''def early_stopping(val_loss, threshold=0.3): # i dont think itll ever reach this lmao probably will not use early stopping\n",
    "    if val_loss < threshold:\n",
    "        return True\n",
    "    return False''' "
   ]
  },
  {
   "cell_type": "markdown",
   "id": "8592d893-80c9-497d-ae5a-b39ce321890b",
   "metadata": {},
   "source": [
    "Here we implement k-fold cross-validation for training the LSTM model, where k is defined by fold_num.\n",
    "\n",
    "**Implementation steps :**\n",
    " \n",
    "1. For each fold:\n",
    "    - It separates the data into training and validation sets.\n",
    "    - Initializes a new LSTM model and optimizer.\n",
    "    - Trains the model for a specified number of epochs.\n",
    "    - Tracks training and validation losses.\n",
    "    - Saves the best model based on validation loss.\n",
    "    \n",
    "2. After training on all folds:\n",
    "    - It keeps track of the best overall model across all folds.\n",
    "    - Plots training and validation loss curves for each fold.\n",
    "    - Saves the best overall model to a file.\n",
    "    - Finally, it calculates and prints the average validation loss across all folds.\n",
    "\n",
    "  \n",
    "The fold_avg list stores the best validation loss for each fold, which is used to compute the overall average performance of the model across all folds. This approach helps to assess how well the model generalizes to unseen data and provides a more robust evaluation of its performance."
   ]
  },
  {
   "cell_type": "code",
   "execution_count": 138,
   "id": "229b1055-42a2-488d-bb2c-25b1862c5d2b",
   "metadata": {},
   "outputs": [
    {
     "name": "stdout",
     "output_type": "stream",
     "text": [
      "Number of folds: 2\n",
      "[<torch.utils.data.dataset.Subset object at 0x7f9cc7898640>, <torch.utils.data.dataset.Subset object at 0x7f9cb89c69a0>]\n",
      "0\n",
      "1\n",
      "Starting Fold 1/3\n",
      "Fold: 1, Epoch: 0, Train Loss: 2.19807, Val Loss: 2.19835\n",
      "Fold: 1, Epoch: 10, Train Loss: 2.19595, Val Loss: 2.19847\n",
      "Fold: 1, Epoch: 20, Train Loss: 2.19509, Val Loss: 2.19840\n",
      "Fold: 1, Epoch: 30, Train Loss: 2.19196, Val Loss: 2.19793\n",
      "Fold: 1, Epoch: 40, Train Loss: 2.18842, Val Loss: 2.19615\n",
      "Fold: 1, Epoch: 50, Train Loss: 2.17810, Val Loss: 2.19057\n",
      "Fold: 1, Epoch: 60, Train Loss: 2.15252, Val Loss: 2.17136\n",
      "Fold: 1, Epoch: 70, Train Loss: 2.11504, Val Loss: 2.13492\n",
      "Fold: 1, Epoch: 80, Train Loss: 2.07238, Val Loss: 2.09410\n",
      "Fold: 1, Epoch: 90, Train Loss: 2.01395, Val Loss: 2.05302\n",
      "Fold 1 completed. Best validation loss: 2.01862\n"
     ]
    },
    {
     "data": {
      "image/png": "[encoded data removed]",
      "text/plain": [
       "<Figure size 640x480 with 1 Axes>"
      ]
     },
     "metadata": {},
     "output_type": "display_data"
    },
    {
     "name": "stdout",
     "output_type": "stream",
     "text": [
      "Best Model - Training Accuracy: 0.2222, Training F1-score (macro): 0.0874\n",
      "Best Model - Validation Accuracy: 0.3162, Validation F1-score (macro): 0.1034\n",
      "0\n",
      "1\n",
      "Starting Fold 2/3\n",
      "Fold: 2, Epoch: 0, Train Loss: 2.19842, Val Loss: 2.19786\n",
      "Fold: 2, Epoch: 10, Train Loss: 2.19714, Val Loss: 2.19659\n",
      "Fold: 2, Epoch: 20, Train Loss: 2.19260, Val Loss: 2.19145\n",
      "Fold: 2, Epoch: 30, Train Loss: 2.14454, Val Loss: 2.13579\n",
      "Fold: 2, Epoch: 40, Train Loss: 2.01997, Val Loss: 2.01297\n",
      "Fold: 2, Epoch: 50, Train Loss: 1.86047, Val Loss: 1.85514\n",
      "Fold: 2, Epoch: 60, Train Loss: 1.67351, Val Loss: 1.66479\n",
      "Fold: 2, Epoch: 70, Train Loss: 1.46129, Val Loss: 1.46307\n",
      "Fold: 2, Epoch: 80, Train Loss: 1.30677, Val Loss: 1.29719\n",
      "Fold: 2, Epoch: 90, Train Loss: 1.14179, Val Loss: 1.15061\n",
      "Fold 2 completed. Best validation loss: 1.04572\n"
     ]
    },
    {
     "data": {
      "image/png": "[encoded data removed]",
      "text/plain": [
       "<Figure size 640x480 with 1 Axes>"
      ]
     },
     "metadata": {},
     "output_type": "display_data"
    },
    {
     "name": "stdout",
     "output_type": "stream",
     "text": [
      "Best Model - Training Accuracy: 0.6741, Training F1-score (macro): 0.6631\n",
      "Best Model - Validation Accuracy: 0.5405, Validation F1-score (macro): 0.5693\n",
      "Training completed. Best overall validation loss: 1.04572\n",
      "Overall average: 1.5321716864903767\n",
      "[2.018620232741038, 1.0457231402397156]\n"
     ]
    }
   ],
   "source": [
    "fold_avg = []\n",
    "def run_training(folds, fold_num):\n",
    "    batch_size = 32\n",
    "    \n",
    "    best_overall_val_loss = float('inf')\n",
    "    best_overall_model_state = None\n",
    "    train_datasets = []\n",
    "    fold_avg = []\n",
    "    \n",
    "    for val_index in range(fold_num - 1):\n",
    "        # Prepare training and validation datasets for the current fold\n",
    "        val_dataset = folds[val_index]\n",
    "        for i in range(fold_num - 1):\n",
    "            print(i)\n",
    "            if i != val_index: \n",
    "                train_datasets.append(folds[i])\n",
    "        #train_datasets = [folds[i] for i in range(fold_num) if i != val_index]\n",
    "        train_dataset = ConcatDataset(train_datasets)\n",
    "        \n",
    "        train_loader = DataLoader(train_dataset, batch_size=batch_size, shuffle=True)\n",
    "        val_loader = DataLoader(val_dataset, batch_size=batch_size)\n",
    "        \n",
    "        print(f\"Starting Fold {val_index + 1}/{fold_num}\")\n",
    "        \n",
    "        # Reinitialize the model and optimizer for each fold\n",
    "        model = LSTM1(num_classes, input_size, hidden_size, num_layers, output_size)\n",
    "        optimizer = torch.optim.Adamax(model.parameters(), lr=0.000179)\n",
    "        \n",
    "        best_val_loss = float('inf')\n",
    "        losses = []\n",
    "        val_losses = []\n",
    "        \n",
    "        for epoch in range(num_epochs):\n",
    "            model.train()\n",
    "            epoch_loss = 0\n",
    "            \n",
    "            for batch_input, batch_targets in train_loader:\n",
    "                optimizer.zero_grad()\n",
    "                outputs = model(batch_input)\n",
    "                loss = criterion(outputs, batch_targets)\n",
    "                loss.backward()\n",
    "                optimizer.step()\n",
    "                epoch_loss += loss.item()\n",
    "            \n",
    "            avg_train_loss = epoch_loss / len(train_loader)\n",
    "            losses.append(avg_train_loss)\n",
    "            \n",
    "            model.eval()\n",
    "            val_loss = 0\n",
    "            \n",
    "            with torch.no_grad():\n",
    "                for batch_input, batch_targets in val_loader:\n",
    "                    val_outputs = model(batch_input)\n",
    "                    val_loss += criterion(val_outputs, batch_targets).item()\n",
    "            \n",
    "            avg_val_loss = val_loss / len(val_loader)\n",
    "            val_losses.append(avg_val_loss)\n",
    "            \n",
    "            if epoch % 10 == 0:\n",
    "                print(f\"Fold: {val_index + 1}, Epoch: {epoch}, Train Loss: {avg_train_loss:.5f}, Val Loss: {avg_val_loss:.5f}\")\n",
    "            \n",
    "            # Save the model if it has the best validation loss so far\n",
    "            if avg_val_loss < best_val_loss:\n",
    "                best_val_loss = avg_val_loss\n",
    "                best_model_state = model.state_dict()\n",
    "        \n",
    "        print(f\"Fold {val_index + 1} completed. Best validation loss: {best_val_loss:.5f}\")\n",
    "        \n",
    "        # Check if this run produced the best overall model\n",
    "        if best_val_loss < best_overall_val_loss:\n",
    "            best_overall_val_loss = best_val_loss\n",
    "            best_overall_model_state = best_model_state\n",
    "        \n",
    "        # Plot the training and validation loss curves for the fold\n",
    "        plt.figure()\n",
    "        plt.plot(losses, label='Training Loss')\n",
    "        plt.plot(val_losses, label='Validation Loss')\n",
    "        plt.xlabel('Epoch')\n",
    "        plt.ylabel('Loss')\n",
    "        plt.title(f'Training and Validation Loss - Fold {val_index + 1}')\n",
    "        plt.legend()\n",
    "        plt.show()\n",
    "        \n",
    "        fold_avg.append(best_val_loss)\n",
    "        evaluate_model(model)\n",
    "    \n",
    "    print(f\"Training completed. Best overall validation loss: {best_overall_val_loss:.5f}\")\n",
    "    \n",
    "    # Save the best overall model\n",
    "    torch.save(best_overall_model_state, 'best_model_cross_val.pth')\n",
    "    \n",
    "    return fold_avg\n",
    "print(f\"Number of folds: {len(folds)}\")\n",
    "print(folds)\n",
    "averages = run_training(folds, fold_num)\n",
    "print(f\"Overall average: {np.mean(averages)}\")\n",
    "print(averages)"
   ]
  },
  {
   "cell_type": "markdown",
   "id": "499e1df2-cffc-4796-8058-16182684c21c",
   "metadata": {},
   "source": [
    "Here we train the model on the entire training dataset by iterating through data batches, computing the loss, performing backpropagation, and updating the model's parameters over multiple epochs, while tracking and saving the best model state based on the validation training loss. \n",
    "\n",
    "The function also plots the training loss over epochs and saves the best model based on the lowest validation loss to a file."
   ]
  },
  {
   "cell_type": "code",
   "execution_count": null,
   "id": "1bae7362-dee0-46c5-8972-b95f5f48a4fc",
   "metadata": {},
   "outputs": [],
   "source": [
    "import copy\n",
    "def train_full_dataset(train_dataset):\n",
    "    # Convert data and targets into a TensorDataset\n",
    "    #dataset = TensorDataset(data, targets)\n",
    "    batch_size = 32\n",
    "    \n",
    "    data_loader = DataLoader(train_dataset, batch_size=batch_size, shuffle=True)\n",
    "    model = LSTM1(num_classes, input_size, hidden_size, num_layers, output_size)\n",
    "    optimizer = torch.optim.Adamax(model.parameters(), lr=0.000179)\n",
    "    \n",
    "    best_val_loss = float('inf')\n",
    "    best_model_state = None\n",
    "    losses = []\n",
    "    \n",
    "    for epoch in range(num_epochs):\n",
    "        model.train()\n",
    "        epoch_loss = 0\n",
    "        \n",
    "        for batch_input, batch_targets in data_loader:\n",
    "            optimizer.zero_grad()\n",
    "            \n",
    "            outputs = model(batch_input)\n",
    "            loss = criterion(outputs, batch_targets)\n",
    "            \n",
    "            loss.backward()\n",
    "            optimizer.step()\n",
    "            \n",
    "            epoch_loss += loss.item()\n",
    "        \n",
    "        avg_train_loss = epoch_loss / len(data_loader)\n",
    "        losses.append(avg_train_loss)\n",
    "        \n",
    "        if epoch % 10 == 0:\n",
    "            print(f\"Epoch: {epoch}, Train Loss: {avg_train_loss:.5f}\")\n",
    "        \n",
    "        if avg_train_loss < best_val_loss: # uhm this doesnt seem to be right.. shouldnt it save best model with lowest val loss not training average\n",
    "            best_val_loss = avg_train_loss\n",
    "            best_model_state = copy.deepcopy(model.state_dict())\n",
    "    \n",
    "    print(f\"Training completed. Best training loss: {best_val_loss:.5f}\")\n",
    "    \n",
    "    plt.figure()\n",
    "    plt.plot(losses, label='Training Loss')\n",
    "    plt.xlabel('Epoch')\n",
    "    plt.ylabel('Loss')\n",
    "    plt.title('Training Loss')\n",
    "    plt.legend()\n",
    "    plt.show()\n",
    "    \n",
    "    torch.save(best_model_state, 'best_full_model.pth')\n",
    "\n",
    "train_full_dataset(train_dataset)\n"
   ]
  },
  {
   "cell_type": "markdown",
   "id": "5a566e27-734c-4bec-954e-b35e3c5c0934",
   "metadata": {},
   "source": [
    "## Model Evaluation\n",
    "\n",
    "Here we evaluate the performance of a trained LSTM model on both the training and validation datasets. Accuracy and F1-score metrics are calculated for both datasets; training set and testing set.\n",
    "\n",
    "This process allows for assessing how well the model performs on data it was trained on (training set) versus new, unseen data (testing set). Comparing these metrics helps identify if the model is overfitting or generalizing well to new data.\n"
   ]
  },
  {
   "cell_type": "code",
   "execution_count": null,
   "id": "f08a71f8-6fc5-4f8e-9e9b-2d3022989402",
   "metadata": {},
   "outputs": [],
   "source": [
    "\n",
    "# Load the best model state\n",
    "best_model_state = torch.load('best_full_model.pth') # from cross validation : best_model_cross_val.pth\n",
    "model.load_state_dict(best_model_state)\n",
    "model.eval()\n",
    "\n",
    "y_pred = []\n",
    "y_true = []\n",
    "\n",
    "# Evaluate on the training set \n",
    "with torch.no_grad():\n",
    "    outputs = model(input_data)\n",
    "    _, preds = torch.max(outputs, 1)\n",
    "    y_pred.extend(preds.cpu().numpy())\n",
    "    y_true.extend(targets.cpu().numpy())\n",
    "\n",
    "train_accuracy = accuracy_score(y_true, y_pred)\n",
    "train_f1 = f1_score(y_true, y_pred, average='macro')\n",
    "print(f\"Best Model - Training Accuracy: {train_accuracy:.4f}, Training F1-score (macro): {train_f1:.4f}\")\n",
    "\n",
    "y_pred = []\n",
    "y_true = []\n",
    "\n",
    "# evaluate on test set\n",
    "with torch.no_grad():\n",
    "    val_outputs = model(val_data)\n",
    "    _, val_preds = torch.max(val_outputs, 1)\n",
    "    y_pred.extend(val_preds.cpu().numpy())\n",
    "    y_true.extend(val_targets.cpu().numpy())\n",
    "\n",
    "val_accuracy = accuracy_score(y_true, y_pred)\n",
    "val_f1 = f1_score(y_true, y_pred, average='macro')\n",
    "print(f\"Best Model - Validation Accuracy: {val_accuracy:.4f}, Validation F1-score (macro): {val_f1:.4f}\")"
   ]
  },
  {
   "cell_type": "markdown",
   "id": "de3028c1-919c-4af1-b07b-b1e8b27a0a31",
   "metadata": {},
   "source": [
    "### ROC curve\n"
   ]
  },
  {
   "cell_type": "code",
   "execution_count": null,
   "id": "db4a3831-7a9e-4037-9d98-f6bec3c56c6c",
   "metadata": {},
   "outputs": [],
   "source": [
    "from sklearn.metrics import roc_curve, auc\n",
    "from sklearn.preprocessing import label_binarize\n",
    "import matplotlib.pyplot as plt\n",
    "import numpy as np\n",
    "\n",
    "y_pred_proba = []\n",
    "y_true = []\n",
    "\n",
    "# Evaluate on the test set\n",
    "model.eval()\n",
    "with torch.no_grad():\n",
    "    val_outputs = model(val_data)\n",
    "    y_pred_proba.extend(torch.softmax(val_outputs, dim=1).cpu().numpy())\n",
    "    y_true.extend(val_targets.cpu().numpy())\n",
    "\n",
    "y_pred_proba = np.array(y_pred_proba)\n",
    "y_true = np.array(y_true)\n"
   ]
  },
  {
   "cell_type": "code",
   "execution_count": null,
   "id": "972d864c-71dd-4b4d-8da6-b827b652b36c",
   "metadata": {},
   "outputs": [],
   "source": [
    "fpr = dict()\n",
    "tpr = dict()\n",
    "roc_auc = dict()\n",
    "\n",
    "for i in range(num_classes):\n",
    "    fpr[i], tpr[i], _ = roc_curve(y_true_bin[:, i], y_pred_proba[:, i])\n",
    "    roc_auc[i] = auc(fpr[i], tpr[i])\n"
   ]
  },
  {
   "cell_type": "code",
   "execution_count": null,
   "id": "dc44c5fd-ef76-4490-983d-d8929d4c4cd7",
   "metadata": {
    "scrolled": true
   },
   "outputs": [],
   "source": [
    "plt.figure(figsize=(10, 8))\n",
    "\n",
    "for i in range(n_classes):\n",
    "    plt.plot(fpr[i], tpr[i], lw=2,\n",
    "             label=f'ROC curve of speaker {i+1} (area = {roc_auc[i]:0.2f})')\n",
    "\n",
    "plt.plot([0, 1], [0, 1], 'k--', lw=2)\n",
    "plt.xlim([0.0, 1.0])\n",
    "plt.ylim([0.0, 1.05])\n",
    "plt.xlabel('False Positive Rate')\n",
    "plt.ylabel('True Positive Rate')\n",
    "plt.title('Receiver Operating Characteristic (ROC) Curve for Each Speaker')\n",
    "plt.legend(loc=\"lower right\")\n",
    "plt.show()\n"
   ]
  },
  {
   "cell_type": "code",
   "execution_count": null,
   "id": "647635a8-d07c-4fe9-832a-fb79c584cdb8",
   "metadata": {},
   "outputs": [],
   "source": [
    "# Compute micro-average ROC curve and ROC area\n",
    "fpr[\"micro\"], tpr[\"micro\"], _ = roc_curve(y_true_bin.ravel(), y_pred_proba.ravel())\n",
    "roc_auc[\"micro\"] = auc(fpr[\"micro\"], tpr[\"micro\"])\n",
    "\n",
    "plt.figure(figsize=(10, 8))\n",
    "plt.plot(fpr[\"micro\"], tpr[\"micro\"],\n",
    "         label=f'micro-average ROC curve (area = {roc_auc[\"micro\"]:0.2f})',\n",
    "         color='deeppink', linestyle=':', linewidth=4)\n",
    "\n",
    "plt.plot([0, 1], [0, 1], 'k--', lw=2)\n",
    "plt.xlim([0.0, 1.0])\n",
    "plt.ylim([0.0, 1.05])\n",
    "plt.xlabel('False Positive Rate')\n",
    "plt.ylabel('True Positive Rate')\n",
    "plt.title('Micro-average Receiver Operating Characteristic (ROC) Curve')\n",
    "plt.legend(loc=\"lower right\")\n",
    "plt.show()\n",
    "\n"
   ]
  },
  {
   "cell_type": "code",
   "execution_count": null,
   "id": "8222ea1d-9129-42f2-bd6a-4e7753b19e26",
   "metadata": {},
   "outputs": [],
   "source": []
  }
 ],
 "metadata": {
  "kernelspec": {
   "display_name": "poetry-kernel",
   "language": "python",
   "name": "poetry-kernel"
  },
  "language_info": {
   "codemirror_mode": {
    "name": "ipython",
    "version": 3
   },
   "file_extension": ".py",
   "mimetype": "text/x-python",
   "name": "python",
   "nbconvert_exporter": "python",
   "pygments_lexer": "ipython3",
   "version": "3.9.19"
  }
 },
 "nbformat": 4,
 "nbformat_minor": 5
}
